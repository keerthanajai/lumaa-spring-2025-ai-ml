{
  "nbformat": 4,
  "nbformat_minor": 0,
  "metadata": {
    "colab": {
      "provenance": []
    },
    "kernelspec": {
      "name": "python3",
      "display_name": "Python 3"
    },
    "language_info": {
      "name": "python"
    }
  },
  "cells": [
    {
      "cell_type": "code",
      "execution_count": 14,
      "metadata": {
        "id": "CBuiittPTB6g"
      },
      "outputs": [],
      "source": [
        "#import libraries\n",
        "import pandas as pd\n",
        "import numpy as np\n",
        "import nltk\n",
        "from nltk.stem.snowball import SnowballStemmer\n",
        "from sklearn.feature_extraction.text import TfidfVectorizer\n",
        "from sklearn.metrics.pairwise import cosine_similarity\n"
      ]
    },
    {
      "cell_type": "code",
      "source": [
        "#read data\n",
        "df=pd.read_csv('movies.csv')"
      ],
      "metadata": {
        "id": "BxOVRs6ATLXz"
      },
      "execution_count": 22,
      "outputs": []
    },
    {
      "cell_type": "code",
      "source": [
        "# Remove duplicates in the entire DataFrame\n",
        "df.drop_duplicates(inplace=True)\n",
        "df.drop_duplicates(subset=['title', 'release_date'], inplace=True)\n",
        "df1 = df[df.vote_count >= 20].reset_index(drop=True)\n",
        "\n",
        "#combining necessary columns\n",
        "df1['tags'] = df1['overview'] +' '+ df1['genres'] +' '+ df1['keywords'] +' '+ df1['credits'] +' '+ df1['original_language']\n",
        "\n",
        "# Drop rows with missing values\n",
        "df1.dropna(inplace=True)\n",
        "\n",
        "# Sampling\n",
        "df1 = df1.sample(n=500, random_state=42)"
      ],
      "metadata": {
        "id": "gmvdOYZZTNFy"
      },
      "execution_count": 23,
      "outputs": []
    },
    {
      "cell_type": "code",
      "source": [
        "# finding empty strings and removing them\n",
        "index = df1[(df1['genres']=='') & (df1['overview']=='')].index\n",
        "df1.drop(index, inplace=True)\n",
        "\n",
        "# Removing punctuation\n",
        "df1['tags'] = df1['tags'].str.replace('[^\\w\\s]', '', regex=True)"
      ],
      "metadata": {
        "id": "BtMT4wPRTm-b"
      },
      "execution_count": 24,
      "outputs": []
    },
    {
      "cell_type": "code",
      "source": [
        "#defining tf-idf matrix\n",
        "tfidf = TfidfVectorizer(stop_words='english')\n",
        "tfidf_matrix = tfidf.fit_transform(df1['tags'])"
      ],
      "metadata": {
        "id": "lPKOYvCIT6qf"
      },
      "execution_count": 25,
      "outputs": []
    },
    {
      "cell_type": "code",
      "source": [
        "#Function to get user input\n",
        "def get_user_input():\n",
        "    while True:\n",
        "        prompt = input(\"Describe the type of movie you are looking to watch: \")\n",
        "        get_recommendations_from_prompt(prompt)\n",
        "        continue_search = input(\"Do you want to search again? (yes/no): \").strip().lower()\n",
        "        if continue_search != 'yes':\n",
        "            print(\"Goodbye!\")\n",
        "            break"
      ],
      "metadata": {
        "id": "CoW0F1SaUDdK"
      },
      "execution_count": 26,
      "outputs": []
    },
    {
      "cell_type": "code",
      "source": [
        "def get_recommendations_from_prompt(prompt, top_n=5):\n",
        "\n",
        "    # Getting simmilar movies using cosine simmilarity\n",
        "    prompt_vector = tfidf.transform([prompt])\n",
        "    sim_scores = cosine_similarity(prompt_vector, tfidf_matrix).flatten()\n",
        "    top_indices = sim_scores.argsort()[::-1][:top_n]\n",
        "\n",
        "\n",
        "    recommended_movies = df1.iloc[top_indices]\n",
        "\n",
        "    print(\"Top Recommended Movies:\\n\")\n",
        "    for title in recommended_movies['title']:\n",
        "        print(title)\n",
        "\n",
        "get_user_input();\n"
      ],
      "metadata": {
        "colab": {
          "base_uri": "https://localhost:8080/"
        },
        "id": "0_mllPPgVf_D",
        "outputId": "50a3ab5b-50ac-405a-c80f-228d58e6760a"
      },
      "execution_count": 27,
      "outputs": [
        {
          "output_type": "stream",
          "name": "stdout",
          "text": [
            "Describe the type of movie you are looking to watch: I want to watch a disney movie\n",
            "Top Recommended Movies:\n",
            "\n",
            "Rings\n",
            "Summer Magic\n",
            "Daniel, the Wizard\n",
            "Treasure Island\n",
            "The Pixar Story\n",
            "Do you want to search again? (yes/no): yes\n",
            "Describe the type of movie you are looking to watch: I want to watch a funny comedy film\n",
            "Top Recommended Movies:\n",
            "\n",
            "El Chanfle 2\n",
            "Scooby Goes Hollywood\n",
            "Vanity Fair\n",
            "Cube Zero\n",
            "Clerks\n",
            "Do you want to search again? (yes/no): yes\n",
            "Describe the type of movie you are looking to watch: I want to watch a gore horror thriller\n",
            "Top Recommended Movies:\n",
            "\n",
            "Hansel & Gretel\n",
            "Centigrade\n",
            "Infidel\n",
            "Barricade\n",
            "Hell Fest\n",
            "Do you want to search again? (yes/no): no\n",
            "Goodbye!\n"
          ]
        }
      ]
    }
  ]
}